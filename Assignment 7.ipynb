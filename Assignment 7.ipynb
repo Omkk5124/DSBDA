{
 "cells": [
  {
   "cell_type": "markdown",
   "id": "1d1095e2",
   "metadata": {},
   "source": [
    "### Assignment 6\n",
    "#### Name: Mrunmai Abhyankar\n",
    "#### Roll No: 31155\n",
    "#### Batch: M1"
   ]
  },
  {
   "cell_type": "markdown",
   "id": "5a4bf0ff",
   "metadata": {},
   "source": [
    "##### Problem Statement\n",
    "Text Analytics\n",
    "    1. Extract Sample document and apply following document preprocessing methods: Tokenization, POS Tagging, stop words removal, Stemming and Lemmatization.\n",
    "    2. Create representation of document by calculating Term Frequency and Inverse Document\n",
    "Frequency."
   ]
  },
  {
   "cell_type": "code",
   "execution_count": null,
   "id": "c42bda68",
   "metadata": {},
   "outputs": [
    {
     "name": "stderr",
     "output_type": "stream",
     "text": [
      "[nltk_data] Downloading collection 'all'\n",
      "[nltk_data]    | \n",
      "[nltk_data]    | Downloading package abc to C:\\Users\\Om\n",
      "[nltk_data]    |     Khedkar\\AppData\\Roaming\\nltk_data...\n",
      "[nltk_data]    |   Unzipping corpora\\abc.zip.\n",
      "[nltk_data]    | Downloading package alpino to C:\\Users\\Om\n",
      "[nltk_data]    |     Khedkar\\AppData\\Roaming\\nltk_data...\n",
      "[nltk_data]    |   Unzipping corpora\\alpino.zip.\n",
      "[nltk_data]    | Downloading package averaged_perceptron_tagger to\n",
      "[nltk_data]    |     C:\\Users\\Om Khedkar\\AppData\\Roaming\\nltk_data...\n",
      "[nltk_data]    |   Unzipping taggers\\averaged_perceptron_tagger.zip.\n",
      "[nltk_data]    | Downloading package averaged_perceptron_tagger_ru to\n",
      "[nltk_data]    |     C:\\Users\\Om Khedkar\\AppData\\Roaming\\nltk_data...\n",
      "[nltk_data]    |   Unzipping\n",
      "[nltk_data]    |       taggers\\averaged_perceptron_tagger_ru.zip.\n",
      "[nltk_data]    | Downloading package basque_grammars to C:\\Users\\Om\n",
      "[nltk_data]    |     Khedkar\\AppData\\Roaming\\nltk_data...\n",
      "[nltk_data]    |   Unzipping grammars\\basque_grammars.zip.\n",
      "[nltk_data]    | Downloading package biocreative_ppi to C:\\Users\\Om\n",
      "[nltk_data]    |     Khedkar\\AppData\\Roaming\\nltk_data...\n",
      "[nltk_data]    |   Unzipping corpora\\biocreative_ppi.zip.\n",
      "[nltk_data]    | Downloading package bllip_wsj_no_aux to C:\\Users\\Om\n",
      "[nltk_data]    |     Khedkar\\AppData\\Roaming\\nltk_data...\n",
      "[nltk_data]    |   Unzipping models\\bllip_wsj_no_aux.zip.\n",
      "[nltk_data]    | Downloading package book_grammars to C:\\Users\\Om\n",
      "[nltk_data]    |     Khedkar\\AppData\\Roaming\\nltk_data...\n",
      "[nltk_data]    |   Unzipping grammars\\book_grammars.zip.\n",
      "[nltk_data]    | Downloading package brown to C:\\Users\\Om\n",
      "[nltk_data]    |     Khedkar\\AppData\\Roaming\\nltk_data...\n",
      "[nltk_data]    |   Unzipping corpora\\brown.zip.\n",
      "[nltk_data]    | Downloading package brown_tei to C:\\Users\\Om\n",
      "[nltk_data]    |     Khedkar\\AppData\\Roaming\\nltk_data...\n",
      "[nltk_data]    |   Unzipping corpora\\brown_tei.zip.\n",
      "[nltk_data]    | Downloading package cess_cat to C:\\Users\\Om\n",
      "[nltk_data]    |     Khedkar\\AppData\\Roaming\\nltk_data...\n",
      "[nltk_data]    |   Unzipping corpora\\cess_cat.zip.\n",
      "[nltk_data]    | Downloading package cess_esp to C:\\Users\\Om\n",
      "[nltk_data]    |     Khedkar\\AppData\\Roaming\\nltk_data...\n",
      "[nltk_data]    |   Unzipping corpora\\cess_esp.zip.\n",
      "[nltk_data]    | Downloading package chat80 to C:\\Users\\Om\n",
      "[nltk_data]    |     Khedkar\\AppData\\Roaming\\nltk_data...\n",
      "[nltk_data]    |   Unzipping corpora\\chat80.zip.\n",
      "[nltk_data]    | Downloading package city_database to C:\\Users\\Om\n",
      "[nltk_data]    |     Khedkar\\AppData\\Roaming\\nltk_data...\n",
      "[nltk_data]    |   Unzipping corpora\\city_database.zip.\n",
      "[nltk_data]    | Downloading package cmudict to C:\\Users\\Om\n",
      "[nltk_data]    |     Khedkar\\AppData\\Roaming\\nltk_data...\n",
      "[nltk_data]    |   Unzipping corpora\\cmudict.zip.\n",
      "[nltk_data]    | Downloading package comparative_sentences to\n",
      "[nltk_data]    |     C:\\Users\\Om Khedkar\\AppData\\Roaming\\nltk_data...\n",
      "[nltk_data]    |   Unzipping corpora\\comparative_sentences.zip.\n",
      "[nltk_data]    | Downloading package comtrans to C:\\Users\\Om\n",
      "[nltk_data]    |     Khedkar\\AppData\\Roaming\\nltk_data...\n",
      "[nltk_data]    | Downloading package conll2000 to C:\\Users\\Om\n",
      "[nltk_data]    |     Khedkar\\AppData\\Roaming\\nltk_data...\n",
      "[nltk_data]    |   Unzipping corpora\\conll2000.zip.\n",
      "[nltk_data]    | Downloading package conll2002 to C:\\Users\\Om\n",
      "[nltk_data]    |     Khedkar\\AppData\\Roaming\\nltk_data...\n",
      "[nltk_data]    |   Unzipping corpora\\conll2002.zip.\n",
      "[nltk_data]    | Downloading package conll2007 to C:\\Users\\Om\n",
      "[nltk_data]    |     Khedkar\\AppData\\Roaming\\nltk_data...\n",
      "[nltk_data]    | Downloading package crubadan to C:\\Users\\Om\n",
      "[nltk_data]    |     Khedkar\\AppData\\Roaming\\nltk_data...\n",
      "[nltk_data]    |   Unzipping corpora\\crubadan.zip.\n",
      "[nltk_data]    | Downloading package dependency_treebank to\n",
      "[nltk_data]    |     C:\\Users\\Om Khedkar\\AppData\\Roaming\\nltk_data...\n",
      "[nltk_data]    |   Unzipping corpora\\dependency_treebank.zip.\n",
      "[nltk_data]    | Downloading package dolch to C:\\Users\\Om\n",
      "[nltk_data]    |     Khedkar\\AppData\\Roaming\\nltk_data...\n",
      "[nltk_data]    |   Unzipping corpora\\dolch.zip.\n",
      "[nltk_data]    | Downloading package europarl_raw to C:\\Users\\Om\n",
      "[nltk_data]    |     Khedkar\\AppData\\Roaming\\nltk_data...\n",
      "[nltk_data]    |   Unzipping corpora\\europarl_raw.zip.\n",
      "[nltk_data]    | Downloading package extended_omw to C:\\Users\\Om\n",
      "[nltk_data]    |     Khedkar\\AppData\\Roaming\\nltk_data...\n",
      "[nltk_data]    |   Unzipping corpora\\extended_omw.zip.\n",
      "[nltk_data]    | Downloading package floresta to C:\\Users\\Om\n",
      "[nltk_data]    |     Khedkar\\AppData\\Roaming\\nltk_data...\n",
      "[nltk_data]    |   Unzipping corpora\\floresta.zip.\n",
      "[nltk_data]    | Downloading package framenet_v15 to C:\\Users\\Om\n",
      "[nltk_data]    |     Khedkar\\AppData\\Roaming\\nltk_data...\n",
      "[nltk_data]    |   Unzipping corpora\\framenet_v15.zip.\n",
      "[nltk_data]    | Downloading package framenet_v17 to C:\\Users\\Om\n",
      "[nltk_data]    |     Khedkar\\AppData\\Roaming\\nltk_data...\n"
     ]
    }
   ],
   "source": [
    "import nltk\n",
    "import re\n",
    "nltk.download('all')"
   ]
  },
  {
   "cell_type": "code",
   "execution_count": 32,
   "id": "aff6c1d3",
   "metadata": {},
   "outputs": [
    {
     "name": "stdout",
     "output_type": "stream",
     "text": [
      "Millions of people in India took part in an annual tree planting drive Sunday. More than 250 million saplings were planted in a single day across the country's most-populous state.The campaign was led by Uttar Pradesh state government officials, lawmakers, and activists, in a bid to reduce carbon emissions and combat climate change.Where were the trees planted?The saplings were planted by volunteers in forests, farms, schools, and along riverbanks and highways.\"We are committed to increasing the forest cover of Uttar Pradesh to over 15% of the total land area in the next five years,'' said state forest official Manoj Singh.According to another government official, the forest cover of the state has increased over the last few years.\"There has been an increase of 127 sqare kilometers [79 sqare miles] in the forest cover in Uttar Pradesh as compared to 2017,\" a state government spokesperson was quoted as saying in The Indian Express newspaper.\"There has also been an increase in trees and plants. The tree cover has increased to 3.05%, as compared to the national average of 2.89%,\" the official said, citing the 2019 Forest Survey of India report.How many saplings survive?Uttar Pradesh State Forest Minister Dara Singh said the long-term survival of the saplings remains a concern, adding that usually only 60% of the saplings survive. The rest succumb to disease or lack of water.However, he said that about 80% of the saplings planted in the last four annual drives have survived.\"All the regions where plantation is being carried out have been geo-tagged so that we can ascertain what exactly happened,\" Chauhan told The Pioneer newspaper.\"These saplings carry QR codes so that officials can maintain a record and verify whether the saplings survived or not. Besides, teams have been formed to monitor progress of the plantation drive,\" he said.What is the extent of India's tree planting project?India has vowed to have a third of its total land area, or 95 million hectares, under forest and tree cover by 2030.The government has allocated $6.2 billion (€5.2 billion) for the tree-planting across the country.However, industrial development and a rapidly growing population has put further stress on the land.\n"
     ]
    }
   ],
   "source": [
    "text = \"\"\n",
    "with open('testdoc.txt') as f:\n",
    "    lines = f.readlines()\n",
    "for line in lines:\n",
    "    text += line\n",
    "text = text.replace('\\n','')\n",
    "print(text)\n",
    "# text = \"It was July 21, 1969, and Neil Armstrong awoke with a start. It was the day he would become the first human being to ever walk on the moon. The journey had begun several days earlier, when on July 16th, the Apollo 11 launched from Earth headed into outer space. On board with Neil Armstrong were Michael Collins and Buzz Aldrin. The crew landed on the moon in the Sea of Tranquility a day before the actual walk. Upon Neil’s first step onto the moon’s surface, he declared, “That’s one small step for man, one giant leap for mankind.” It sure was!\"\n",
    "# text = re.sub(r\"[^a-zA-Z0-9]\", \" \", text.lower())"
   ]
  },
  {
   "cell_type": "markdown",
   "id": "e1c2c14a",
   "metadata": {},
   "source": [
    "#### Tokenization"
   ]
  },
  {
   "cell_type": "code",
   "execution_count": 33,
   "id": "cdc6cb91",
   "metadata": {},
   "outputs": [
    {
     "name": "stdout",
     "output_type": "stream",
     "text": [
      "['Millions of people in India took part in an annual tree planting drive Sunday.', \"More than 250 million saplings were planted in a single day across the country's most-populous state.The campaign was led by Uttar Pradesh state government officials, lawmakers, and activists, in a bid to reduce carbon emissions and combat climate change.Where were the trees planted?The saplings were planted by volunteers in forests, farms, schools, and along riverbanks and highways.\", '\"We are committed to increasing the forest cover of Uttar Pradesh to over 15% of the total land area in the next five years,\\'\\' said state forest official Manoj Singh.According to another government official, the forest cover of the state has increased over the last few years.', '\"There has been an increase of 127 sqare kilometers [79 sqare miles]\\xa0in the forest cover in Uttar Pradesh as compared to 2017,\" a state government spokesperson was quoted as saying in\\xa0The Indian Express newspaper.', '\"There has also been an increase in trees and plants.', 'The tree cover has increased to 3.05%, as compared to the national average of 2.89%,\" the official said, citing the 2019 Forest Survey of India report.How many saplings survive?Uttar Pradesh State Forest Minister Dara Singh said the long-term survival of the saplings remains a concern, adding that usually only 60% of the saplings survive.', 'The rest succumb to disease or lack of water.However, he said that\\xa0about 80% of the saplings planted in the last four annual drives have survived.', '\"All the regions where plantation is being carried out have been geo-tagged so that we can ascertain what exactly happened,\" Chauhan told The Pioneer newspaper.', '\"These saplings carry QR codes so that officials can maintain a record and verify whether the saplings survived or not.', 'Besides, teams have been formed to monitor progress of the plantation drive,\" he said.What is the extent of India\\'s tree planting project?India has vowed to have a third of its total land area, or 95 million hectares, under forest and tree cover by 2030.The government has allocated $6.2 billion (€5.2 billion) for the tree-planting across the country.However, industrial development and a rapidly growing population has put further stress on the land.']\n"
     ]
    }
   ],
   "source": [
    "from nltk.tokenize import sent_tokenize, word_tokenize\n",
    "print(sent_tokenize(text))\n"
   ]
  },
  {
   "cell_type": "code",
   "execution_count": 34,
   "id": "f87981a4",
   "metadata": {},
   "outputs": [
    {
     "name": "stdout",
     "output_type": "stream",
     "text": [
      "['Millions', 'of', 'people', 'in', 'India', 'took', 'part', 'in', 'an', 'annual', 'tree', 'planting', 'drive', 'Sunday', '.', 'More', 'than', '250', 'million', 'saplings', 'were', 'planted', 'in', 'a', 'single', 'day', 'across', 'the', 'country', \"'s\", 'most-populous', 'state.The', 'campaign', 'was', 'led', 'by', 'Uttar', 'Pradesh', 'state', 'government', 'officials', ',', 'lawmakers', ',', 'and', 'activists', ',', 'in', 'a', 'bid', 'to', 'reduce', 'carbon', 'emissions', 'and', 'combat', 'climate', 'change.Where', 'were', 'the', 'trees', 'planted', '?', 'The', 'saplings', 'were', 'planted', 'by', 'volunteers', 'in', 'forests', ',', 'farms', ',', 'schools', ',', 'and', 'along', 'riverbanks', 'and', 'highways', '.', '``', 'We', 'are', 'committed', 'to', 'increasing', 'the', 'forest', 'cover', 'of', 'Uttar', 'Pradesh', 'to', 'over', '15', '%', 'of', 'the', 'total', 'land', 'area', 'in', 'the', 'next', 'five', 'years', ',', \"''\", 'said', 'state', 'forest', 'official', 'Manoj', 'Singh.According', 'to', 'another', 'government', 'official', ',', 'the', 'forest', 'cover', 'of', 'the', 'state', 'has', 'increased', 'over', 'the', 'last', 'few', 'years', '.', '``', 'There', 'has', 'been', 'an', 'increase', 'of', '127', 'sqare', 'kilometers', '[', '79', 'sqare', 'miles', ']', 'in', 'the', 'forest', 'cover', 'in', 'Uttar', 'Pradesh', 'as', 'compared', 'to', '2017', ',', \"''\", 'a', 'state', 'government', 'spokesperson', 'was', 'quoted', 'as', 'saying', 'in', 'The', 'Indian', 'Express', 'newspaper', '.', '``', 'There', 'has', 'also', 'been', 'an', 'increase', 'in', 'trees', 'and', 'plants', '.', 'The', 'tree', 'cover', 'has', 'increased', 'to', '3.05', '%', ',', 'as', 'compared', 'to', 'the', 'national', 'average', 'of', '2.89', '%', ',', \"''\", 'the', 'official', 'said', ',', 'citing', 'the', '2019', 'Forest', 'Survey', 'of', 'India', 'report.How', 'many', 'saplings', 'survive', '?', 'Uttar', 'Pradesh', 'State', 'Forest', 'Minister', 'Dara', 'Singh', 'said', 'the', 'long-term', 'survival', 'of', 'the', 'saplings', 'remains', 'a', 'concern', ',', 'adding', 'that', 'usually', 'only', '60', '%', 'of', 'the', 'saplings', 'survive', '.', 'The', 'rest', 'succumb', 'to', 'disease', 'or', 'lack', 'of', 'water.However', ',', 'he', 'said', 'that', 'about', '80', '%', 'of', 'the', 'saplings', 'planted', 'in', 'the', 'last', 'four', 'annual', 'drives', 'have', 'survived', '.', '``', 'All', 'the', 'regions', 'where', 'plantation', 'is', 'being', 'carried', 'out', 'have', 'been', 'geo-tagged', 'so', 'that', 'we', 'can', 'ascertain', 'what', 'exactly', 'happened', ',', \"''\", 'Chauhan', 'told', 'The', 'Pioneer', 'newspaper', '.', '``', 'These', 'saplings', 'carry', 'QR', 'codes', 'so', 'that', 'officials', 'can', 'maintain', 'a', 'record', 'and', 'verify', 'whether', 'the', 'saplings', 'survived', 'or', 'not', '.', 'Besides', ',', 'teams', 'have', 'been', 'formed', 'to', 'monitor', 'progress', 'of', 'the', 'plantation', 'drive', ',', \"''\", 'he', 'said.What', 'is', 'the', 'extent', 'of', 'India', \"'s\", 'tree', 'planting', 'project', '?', 'India', 'has', 'vowed', 'to', 'have', 'a', 'third', 'of', 'its', 'total', 'land', 'area', ',', 'or', '95', 'million', 'hectares', ',', 'under', 'forest', 'and', 'tree', 'cover', 'by', '2030.The', 'government', 'has', 'allocated', '$', '6.2', 'billion', '(', '€5.2', 'billion', ')', 'for', 'the', 'tree-planting', 'across', 'the', 'country.However', ',', 'industrial', 'development', 'and', 'a', 'rapidly', 'growing', 'population', 'has', 'put', 'further', 'stress', 'on', 'the', 'land', '.']\n"
     ]
    }
   ],
   "source": [
    "print(word_tokenize(text))"
   ]
  },
  {
   "cell_type": "markdown",
   "id": "77bdc2a8",
   "metadata": {},
   "source": [
    "#### POS Tagging"
   ]
  },
  {
   "cell_type": "code",
   "execution_count": 35,
   "id": "55708d84",
   "metadata": {},
   "outputs": [
    {
     "name": "stderr",
     "output_type": "stream",
     "text": [
      "[nltk_data] Downloading package punkt to /home/pict/nltk_data...\n",
      "[nltk_data]   Package punkt is already up-to-date!\n",
      "[nltk_data] Downloading package averaged_perceptron_tagger to\n",
      "[nltk_data]     /home/pict/nltk_data...\n",
      "[nltk_data]   Package averaged_perceptron_tagger is already up-to-\n",
      "[nltk_data]       date!\n"
     ]
    }
   ],
   "source": [
    "from nltk.corpus import stopwords\n",
    "nltk.download('punkt')\n",
    "nltk.download('averaged_perceptron_tagger')\n",
    "from nltk.tokenize import word_tokenize, sent_tokenize\n",
    "stop_words = set(stopwords.words('english'))"
   ]
  },
  {
   "cell_type": "code",
   "execution_count": 36,
   "id": "bb12bf0c",
   "metadata": {},
   "outputs": [
    {
     "name": "stdout",
     "output_type": "stream",
     "text": [
      "[('Millions', 'NNS'), ('people', 'NNS'), ('India', 'NNP'), ('took', 'VBD'), ('part', 'NN'), ('annual', 'JJ'), ('tree', 'NN'), ('planting', 'VBG'), ('drive', 'JJ'), ('Sunday', 'NNP'), ('.', '.')]\n",
      "[('More', 'RBR'), ('250', 'CD'), ('million', 'CD'), ('saplings', 'NNS'), ('planted', 'VBN'), ('single', 'JJ'), ('day', 'NN'), ('across', 'IN'), ('country', 'NN'), (\"'s\", 'POS'), ('most-populous', 'JJ'), ('state.The', 'NN'), ('campaign', 'NN'), ('led', 'VBD'), ('Uttar', 'NNP'), ('Pradesh', 'NNP'), ('state', 'NN'), ('government', 'NN'), ('officials', 'NNS'), (',', ','), ('lawmakers', 'NNS'), (',', ','), ('activists', 'NNS'), (',', ','), ('bid', 'NN'), ('reduce', 'VB'), ('carbon', 'NN'), ('emissions', 'NNS'), ('combat', 'VBP'), ('climate', 'NN'), ('change.Where', 'NN'), ('trees', 'NNS'), ('planted', 'VBN'), ('?', '.'), ('The', 'DT'), ('saplings', 'NNS'), ('planted', 'VBD'), ('volunteers', 'NNS'), ('forests', 'NNS'), (',', ','), ('farms', 'NNS'), (',', ','), ('schools', 'NNS'), (',', ','), ('along', 'IN'), ('riverbanks', 'NNS'), ('highways', 'NNS'), ('.', '.')]\n",
      "[('``', '``'), ('We', 'PRP'), ('committed', 'VBD'), ('increasing', 'VBG'), ('forest', 'JJS'), ('cover', 'NN'), ('Uttar', 'NNP'), ('Pradesh', 'NNP'), ('15', 'CD'), ('%', 'NN'), ('total', 'JJ'), ('land', 'NN'), ('area', 'NN'), ('next', 'IN'), ('five', 'CD'), ('years', 'NNS'), (',', ','), (\"''\", \"''\"), ('said', 'VBD'), ('state', 'NN'), ('forest', 'JJS'), ('official', 'NN'), ('Manoj', 'NNP'), ('Singh.According', 'NNP'), ('another', 'DT'), ('government', 'NN'), ('official', 'NN'), (',', ','), ('forest', 'JJS'), ('cover', 'NN'), ('state', 'NN'), ('increased', 'VBD'), ('last', 'JJ'), ('years', 'NNS'), ('.', '.')]\n",
      "[('``', '``'), ('There', 'EX'), ('increase', 'VB'), ('127', 'CD'), ('sqare', 'JJ'), ('kilometers', 'NNS'), ('[', 'VBP'), ('79', 'CD'), ('sqare', 'NN'), ('miles', 'NNS'), (']', 'RB'), ('forest', 'VBP'), ('cover', 'NN'), ('Uttar', 'NNP'), ('Pradesh', 'NNP'), ('compared', 'VBN'), ('2017', 'CD'), (',', ','), (\"''\", \"''\"), ('state', 'NN'), ('government', 'NN'), ('spokesperson', 'NN'), ('quoted', 'VBD'), ('saying', 'VBG'), ('The', 'DT'), ('Indian', 'NNP'), ('Express', 'NNP'), ('newspaper', 'NN'), ('.', '.')]\n",
      "[('``', '``'), ('There', 'EX'), ('also', 'RB'), ('increase', 'NN'), ('trees', 'NNS'), ('plants', 'NNS'), ('.', '.')]\n",
      "[('The', 'DT'), ('tree', 'JJ'), ('cover', 'NN'), ('increased', 'VBD'), ('3.05', 'CD'), ('%', 'NN'), (',', ','), ('compared', 'VBN'), ('national', 'JJ'), ('average', 'JJ'), ('2.89', 'CD'), ('%', 'NN'), (',', ','), (\"''\", \"''\"), ('official', 'NN'), ('said', 'VBD'), (',', ','), ('citing', 'VBG'), ('2019', 'CD'), ('Forest', 'NNP'), ('Survey', 'NNP'), ('India', 'NNP'), ('report.How', 'VBD'), ('many', 'JJ'), ('saplings', 'NNS'), ('survive', 'VBP'), ('?', '.'), ('Uttar', 'NNP'), ('Pradesh', 'NNP'), ('State', 'NNP'), ('Forest', 'NNP'), ('Minister', 'NNP'), ('Dara', 'NNP'), ('Singh', 'NNP'), ('said', 'VBD'), ('long-term', 'JJ'), ('survival', 'JJ'), ('saplings', 'NNS'), ('remains', 'VBZ'), ('concern', 'NN'), (',', ','), ('adding', 'VBG'), ('usually', 'RB'), ('60', 'CD'), ('%', 'NN'), ('saplings', 'NNS'), ('survive', 'VBP'), ('.', '.')]\n",
      "[('The', 'DT'), ('rest', 'NN'), ('succumb', 'NN'), ('disease', 'NN'), ('lack', 'NN'), ('water.However', 'NN'), (',', ','), ('said', 'VBD'), ('80', 'CD'), ('%', 'NN'), ('saplings', 'NNS'), ('planted', 'VBN'), ('last', 'JJ'), ('four', 'CD'), ('annual', 'JJ'), ('drives', 'NNS'), ('survived', 'VBD'), ('.', '.')]\n",
      "[('``', '``'), ('All', 'DT'), ('regions', 'NNS'), ('plantation', 'VBP'), ('carried', 'VBN'), ('geo-tagged', 'JJ'), ('ascertain', 'NN'), ('exactly', 'RB'), ('happened', 'VBD'), (',', ','), (\"''\", \"''\"), ('Chauhan', 'NNP'), ('told', 'VBD'), ('The', 'DT'), ('Pioneer', 'NNP'), ('newspaper', 'NN'), ('.', '.')]\n",
      "[('``', '``'), ('These', 'DT'), ('saplings', 'NNS'), ('carry', 'VBP'), ('QR', 'NNP'), ('codes', 'NNS'), ('officials', 'NNS'), ('maintain', 'VBP'), ('record', 'NN'), ('verify', 'NN'), ('whether', 'IN'), ('saplings', 'NNS'), ('survived', 'VBN'), ('.', '.')]\n",
      "[('Besides', 'IN'), (',', ','), ('teams', 'NNS'), ('formed', 'VBD'), ('monitor', 'JJ'), ('progress', 'JJ'), ('plantation', 'NN'), ('drive', 'NN'), (',', ','), (\"''\", \"''\"), ('said.What', 'WDT'), ('extent', 'VBD'), ('India', 'NNP'), (\"'s\", 'POS'), ('tree', 'NN'), ('planting', 'NN'), ('project', 'NN'), ('?', '.'), ('India', 'NNP'), ('vowed', 'VBD'), ('third', 'JJ'), ('total', 'JJ'), ('land', 'NN'), ('area', 'NN'), (',', ','), ('95', 'CD'), ('million', 'CD'), ('hectares', 'NNS'), (',', ','), ('forest', 'JJS'), ('tree', 'NN'), ('cover', 'NN'), ('2030.The', 'CD'), ('government', 'NN'), ('allocated', 'VBD'), ('$', '$'), ('6.2', 'CD'), ('billion', 'CD'), ('(', '('), ('€5.2', 'NNP'), ('billion', 'CD'), (')', ')'), ('tree-planting', 'NN'), ('across', 'IN'), ('country.However', 'NN'), (',', ','), ('industrial', 'JJ'), ('development', 'NN'), ('rapidly', 'RB'), ('growing', 'VBG'), ('population', 'NN'), ('put', 'VBD'), ('stress', 'JJ'), ('land', 'NN'), ('.', '.')]\n"
     ]
    }
   ],
   "source": [
    "tokenized = sent_tokenize(text)\n",
    "for i in tokenized:\n",
    "  # Word tokenizers is used to find the words\n",
    "  # and punctuation in a string\n",
    "  wordsList = nltk.word_tokenize(i)\n",
    "  # removing stop words from wordList\n",
    "  wordsList = [w for w in wordsList if not w in stop_words]\n",
    "  # Using a Tagger. Which is part-of-speech\n",
    "  # tagger or POS-tagger.\n",
    "  tagged = nltk.pos_tag(wordsList)\n",
    "  print(tagged)"
   ]
  },
  {
   "cell_type": "code",
   "execution_count": 37,
   "id": "a7d47394",
   "metadata": {},
   "outputs": [
    {
     "name": "stdout",
     "output_type": "stream",
     "text": [
      "Counter({'NN': 15, 'JJ': 6, 'CD': 6, ',': 5, 'VBD': 5, 'NNP': 3, 'IN': 2, 'NNS': 2, '.': 2, \"''\": 1, 'WDT': 1, 'POS': 1, 'JJS': 1, '$': 1, '(': 1, ')': 1, 'RB': 1, 'VBG': 1})\n"
     ]
    }
   ],
   "source": [
    "from collections import Counter\n",
    "counts = Counter( tag for word,  tag in tagged)\n",
    "print(counts)"
   ]
  },
  {
   "cell_type": "markdown",
   "id": "e2a7a41f",
   "metadata": {},
   "source": [
    "#### Stop Words removal"
   ]
  },
  {
   "cell_type": "code",
   "execution_count": 38,
   "id": "1d296ff0",
   "metadata": {},
   "outputs": [
    {
     "name": "stdout",
     "output_type": "stream",
     "text": [
      "['Besides', ',', 'teams', 'formed', 'monitor', 'progress', 'plantation', 'drive', ',', \"''\", 'said.What', 'extent', 'India', \"'s\", 'tree', 'planting', 'project', '?', 'India', 'vowed', 'third', 'total', 'land', 'area', ',', '95', 'million', 'hectares', ',', 'forest', 'tree', 'cover', '2030.The', 'government', 'allocated', '$', '6.2', 'billion', '(', '€5.2', 'billion', ')', 'tree-planting', 'across', 'country.However', ',', 'industrial', 'development', 'rapidly', 'growing', 'population', 'put', 'stress', 'land', '.']\n"
     ]
    }
   ],
   "source": [
    "from nltk.corpus import stopwords\n",
    "words = [w for w in wordsList if w not in stopwords.words(\"english\")]\n",
    "print(words)"
   ]
  },
  {
   "cell_type": "markdown",
   "id": "58752cbc",
   "metadata": {},
   "source": [
    "#### Stemming"
   ]
  },
  {
   "cell_type": "code",
   "execution_count": 39,
   "id": "96a92b10",
   "metadata": {},
   "outputs": [
    {
     "name": "stdout",
     "output_type": "stream",
     "text": [
      "['besid', ',', 'team', 'form', 'monitor', 'progress', 'plantat', 'drive', ',', \"''\", 'said.what', 'extent', 'india', \"'s\", 'tree', 'plant', 'project', '?', 'india', 'vow', 'third', 'total', 'land', 'area', ',', '95', 'million', 'hectar', ',', 'forest', 'tree', 'cover', '2030.the', 'govern', 'alloc', '$', '6.2', 'billion', '(', '€5.2', 'billion', ')', 'tree-plant', 'across', 'country.howev', ',', 'industri', 'develop', 'rapidli', 'grow', 'popul', 'put', 'stress', 'land', '.']\n"
     ]
    }
   ],
   "source": [
    "from nltk.stem.porter import PorterStemmer\n",
    "# Reduce words to their stems\n",
    "stemmed = [PorterStemmer().stem(w) for w in words]\n",
    "print(stemmed)"
   ]
  },
  {
   "cell_type": "markdown",
   "id": "6699231c",
   "metadata": {},
   "source": [
    "#### Lemmatization"
   ]
  },
  {
   "cell_type": "code",
   "execution_count": 40,
   "id": "c1c9293e",
   "metadata": {},
   "outputs": [
    {
     "name": "stdout",
     "output_type": "stream",
     "text": [
      "['Besides', ',', 'team', 'formed', 'monitor', 'progress', 'plantation', 'drive', ',', \"''\", 'said.What', 'extent', 'India', \"'s\", 'tree', 'planting', 'project', '?', 'India', 'vowed', 'third', 'total', 'land', 'area', ',', '95', 'million', 'hectare', ',', 'forest', 'tree', 'cover', '2030.The', 'government', 'allocated', '$', '6.2', 'billion', '(', '€5.2', 'billion', ')', 'tree-planting', 'across', 'country.However', ',', 'industrial', 'development', 'rapidly', 'growing', 'population', 'put', 'stress', 'land', '.']\n"
     ]
    }
   ],
   "source": [
    "from nltk.stem.wordnet import WordNetLemmatizer\n",
    "# Reduce words to their root form\n",
    "lemmed = [WordNetLemmatizer().lemmatize(w) for w in words]\n",
    "print(lemmed)"
   ]
  },
  {
   "cell_type": "markdown",
   "id": "e12e7b48",
   "metadata": {},
   "source": [
    "#### Part 2"
   ]
  },
  {
   "cell_type": "code",
   "execution_count": 1,
   "id": "3faed6b7",
   "metadata": {},
   "outputs": [
    {
     "name": "stdout",
     "output_type": "stream",
     "text": [
      "Between 2016 and 2019, the state forest department under theÂ BJPÂ government had launched â€˜Green Maharashtraâ€™ drive with an aim to plant 50 crore trees across the state in the four-year period. In October 2019, the government had claimed it had surpassed the target by planting 33 crore trees in July-September 2019.Â The Indian ExpressÂ had found that non-forest agencies â€” such as gram panchayats â€” which were tasked with planting trees had not uploaded the mandatory audio-visual proof of the tree plantation drives on the specially created portal.In Pune Revenue Division, it was claimed the gram panchayats planted 1.7 crore saplings; however, no evidence was uploaded for 87 per cent (1.49 crore) saplings. Also, out of the 59 government agencies involved in the drive as many as 38 had not submitted survival reports about the saplings.This year, the targets set by the forest department were comparatively modest. For example, Pune Circle â€” which comprises three divisions in Pune and Solapur district â€” had planned to plant 17 lakh saplings on forest land. However, it may not meet the target due to unavailability of funds. Last year Pune Circle planted 70 lakh saplings on forest land.In Pune Division â€” which comprises six talukas namely Maval, Mulshi, Daund, Indapur, Baramati and Havveli â€” preparations were done for plantation of about 4 lakh trees with special emphasis on teakwood.The National Forest Policy aims and emphasizes at maintaining 33% of the countryâ€™s geographical area under forest and green cover. In view of this and as a part of the 50 crore plantation programme within Maharashtra, the Maharashtra Forest Department aims to plant 4 crore saplings all over the State betweenÂ 1st to July 7th, 2017Â to celebrateÂ â€˜Vanmohotsavâ€™.Â The plantation programme, which was announced in 2016 with the aim of plantingÂ 2 crore trees on 1stÂ July 2016 was a resounding success with the final total reported figure ofÂ 2.82 crore saplings plantedÂ on a single day. To maintain consistency of this platform without affecting its momentum, the Forest Department has set the target of plantation of 4 crore, 13 crore and 33 crore saplings under the mission of 50 crore plantation which shall be accomplished in the three consecutive years viz. 2017, 2018 and 2019.Â TheÂ 4 croreÂ saplings for the year 2017 will be planted during the Vanmohotsav,Â July 1st to July 7thÂ in a state-wide driveÂ with the involvement of 33 government departments along with Students of Schools and Colleges, NSS, NCC, CSR, NGOs, Railways, National Highways, Defence, NABARD and other stakeholders of Society.Â In a first of its kind, aÂ 24-hourÂ toll freeÂ helpline number 1926Â called â€˜Hello Forestâ€™ has been set up to provide information regarding plantation, protection and for mass awareness. The Forest Department has created aÂ mobile application called â€˜My Plantsâ€™Â to record details of the plantation such as numbers, species and location into the computer system of the Forest Department. All volunteers at individual, collective and organizational level should download and use this application to record their tree plantation work through the application, which will be operational from 1stÂ July to 7thÂ July.Â Â In consonance of the public participation, the Maharashtra Forest Department has initiated the â€˜Maharashtra Harit Senaâ€™/ â€˜Green Armyâ€™ which is a body of dedicated volunteers to participate in the plantation, protection, and activities in forest, wildlife, and related sectors around the year. Individuals and organisations interested in volunteering can register on the Green Army websiteÂ www.greenarmy.mahaforest.gov.inÂ An integrated drive has been set in place to ensure seamless and successful participation from all stakeholders of society, especially the public.\n"
     ]
    }
   ],
   "source": [
    "text = \"\"\n",
    "with open('testdoc2.txt') as f:\n",
    "    lines = f.readlines()\n",
    "for line in lines:\n",
    "    text += line\n",
    "text = text.replace('\\n','')\n",
    "print(text)"
   ]
  },
  {
   "cell_type": "code",
   "execution_count": 2,
   "id": "4ce7d0b7",
   "metadata": {},
   "outputs": [],
   "source": [
    "import pandas as pd\n",
    "import sklearn as sk\n",
    "import math\n",
    "import numpy as np"
   ]
  },
  {
   "cell_type": "code",
   "execution_count": 3,
   "id": "b348eebf",
   "metadata": {},
   "outputs": [
    {
     "ename": "NameError",
     "evalue": "name 'nltk' is not defined",
     "output_type": "error",
     "traceback": [
      "\u001b[1;31m---------------------------------------------------------------------------\u001b[0m",
      "\u001b[1;31mNameError\u001b[0m                                 Traceback (most recent call last)",
      "\u001b[1;32mC:\\Users\\OMKHED~1\\AppData\\Local\\Temp/ipykernel_7580/1075733189.py\u001b[0m in \u001b[0;36m<module>\u001b[1;34m\u001b[0m\n\u001b[1;32m----> 1\u001b[1;33m \u001b[0mwordsList\u001b[0m \u001b[1;33m=\u001b[0m \u001b[0mnltk\u001b[0m\u001b[1;33m.\u001b[0m\u001b[0mword_tokenize\u001b[0m\u001b[1;33m(\u001b[0m\u001b[0mtext\u001b[0m\u001b[1;33m)\u001b[0m\u001b[1;33m\u001b[0m\u001b[1;33m\u001b[0m\u001b[0m\n\u001b[0m\u001b[0;32m      2\u001b[0m \u001b[1;32mfrom\u001b[0m \u001b[0mnltk\u001b[0m\u001b[1;33m.\u001b[0m\u001b[0mcorpus\u001b[0m \u001b[1;32mimport\u001b[0m \u001b[0mstopwords\u001b[0m\u001b[1;33m\u001b[0m\u001b[1;33m\u001b[0m\u001b[0m\n\u001b[0;32m      3\u001b[0m \u001b[0mwords\u001b[0m \u001b[1;33m=\u001b[0m \u001b[1;33m[\u001b[0m\u001b[0mw\u001b[0m \u001b[1;32mfor\u001b[0m \u001b[0mw\u001b[0m \u001b[1;32min\u001b[0m \u001b[0mwordsList\u001b[0m \u001b[1;32mif\u001b[0m \u001b[0mw\u001b[0m \u001b[1;32mnot\u001b[0m \u001b[1;32min\u001b[0m \u001b[0mstopwords\u001b[0m\u001b[1;33m.\u001b[0m\u001b[0mwords\u001b[0m\u001b[1;33m(\u001b[0m\u001b[1;34m\"english\"\u001b[0m\u001b[1;33m)\u001b[0m\u001b[1;33m]\u001b[0m\u001b[1;33m\u001b[0m\u001b[1;33m\u001b[0m\u001b[0m\n\u001b[0;32m      4\u001b[0m \u001b[1;31m# print(words)\u001b[0m\u001b[1;33m\u001b[0m\u001b[1;33m\u001b[0m\u001b[0m\n\u001b[0;32m      5\u001b[0m \u001b[0msymbols\u001b[0m \u001b[1;33m=\u001b[0m \u001b[1;34m\"!\\\"#$%&()*+-./:;<=>?@[\\]^_`{|}~\\n—,\"\u001b[0m\u001b[1;33m\u001b[0m\u001b[1;33m\u001b[0m\u001b[0m\n",
      "\u001b[1;31mNameError\u001b[0m: name 'nltk' is not defined"
     ]
    }
   ],
   "source": [
    "wordsList = nltk.word_tokenize(text)\n",
    "from nltk.corpus import stopwords\n",
    "words = [w for w in wordsList if w not in stopwords.words(\"english\")]\n",
    "# print(words)\n",
    "symbols = \"!\\\"#$%&()*+-./:;<=>?@[\\]^_`{|}~\\n—,\"\n",
    "for i in symbols:\n",
    "    data = np.char.replace(words, i, ' ')\n",
    "data = list(filter((' ').__ne__, data))\n",
    "print(data)"
   ]
  },
  {
   "cell_type": "code",
   "execution_count": null,
   "id": "d6e1902b",
   "metadata": {},
   "outputs": [],
   "source": [
    "from nltk.stem.wordnet import WordNetLemmatizer\n",
    "# Reduce words to their root form\n",
    "lemmed = [WordNetLemmatizer().lemmatize(w) for w in data]\n",
    "print(lemmed)"
   ]
  },
  {
   "cell_type": "code",
   "execution_count": null,
   "id": "437847de",
   "metadata": {},
   "outputs": [],
   "source": [
    "from sklearn.feature_extraction.text import TfidfVectorizer\n",
    "vectorizer = TfidfVectorizer()\n",
    "corpus = sent_tokenize(text)\n",
    "X = vectorizer.fit_transform(corpus)\n",
    "vectorizer.get_feature_names_out()\n",
    "x"
   ]
  },
  {
   "cell_type": "code",
   "execution_count": null,
   "id": "7bcc8762",
   "metadata": {},
   "outputs": [],
   "source": []
  }
 ],
 "metadata": {
  "kernelspec": {
   "display_name": "Python 3 (ipykernel)",
   "language": "python",
   "name": "python3"
  },
  "language_info": {
   "codemirror_mode": {
    "name": "ipython",
    "version": 3
   },
   "file_extension": ".py",
   "mimetype": "text/x-python",
   "name": "python",
   "nbconvert_exporter": "python",
   "pygments_lexer": "ipython3",
   "version": "3.10.1"
  }
 },
 "nbformat": 4,
 "nbformat_minor": 5
}
