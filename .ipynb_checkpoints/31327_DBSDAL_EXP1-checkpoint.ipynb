{
 "cells": [
  {
   "cell_type": "code",
   "execution_count": null,
   "metadata": {
    "id": "XapoeA72KzZA"
   },
   "outputs": [],
   "source": [
    "# import all libraries\n",
    "\n",
    "from google.colab import drive\n",
    "import pandas as pd\n",
    "from sklearn import preprocessing"
   ]
  },
  {
   "cell_type": "code",
   "execution_count": null,
   "metadata": {
    "id": "3njrpMkvK3v1"
   },
   "outputs": [],
   "source": [
    "drive.mount('/content/gdrive')"
   ]
  },
  {
   "cell_type": "code",
   "execution_count": null,
   "metadata": {
    "id": "V3tDgTwzK76F"
   },
   "outputs": [],
   "source": [
    "df = pd.read_csv('/content/gdrive/MyDrive/DSBDAL/a1/melb_data.csv')"
   ]
  },
  {
   "cell_type": "code",
   "execution_count": null,
   "metadata": {
    "id": "_ekP9aesLAPE"
   },
   "outputs": [],
   "source": [
    "df.head()"
   ]
  },
  {
   "cell_type": "code",
   "execution_count": null,
   "metadata": {
    "id": "D4MyZNmdLCfP"
   },
   "outputs": [],
   "source": [
    "# datatypes \n",
    "\n",
    "df.dtypes"
   ]
  },
  {
   "cell_type": "code",
   "execution_count": null,
   "metadata": {
    "id": "zJRJDjNcLEo8"
   },
   "outputs": [],
   "source": [
    "# initial statistics using describe\n",
    "\n",
    "df.describe()"
   ]
  },
  {
   "cell_type": "code",
   "execution_count": null,
   "metadata": {
    "id": "oZfBOGnYLHnn"
   },
   "outputs": [],
   "source": [
    "# dimensions of the dataframe\n",
    "\n",
    "df.shape"
   ]
  },
  {
   "cell_type": "code",
   "execution_count": null,
   "metadata": {
    "id": "0e5S9RonLL6A"
   },
   "outputs": [],
   "source": [
    "# missing values \n",
    "\n",
    "df.isnull().sum()"
   ]
  },
  {
   "cell_type": "code",
   "execution_count": null,
   "metadata": {
    "id": "OsjB3F1PLPQe"
   },
   "outputs": [],
   "source": [
    "# replacing null values with mean values\n",
    "\n",
    "df.fillna(df.mean(), inplace=True)"
   ]
  },
  {
   "cell_type": "code",
   "execution_count": null,
   "metadata": {
    "id": "337lPZMPLRth"
   },
   "outputs": [],
   "source": [
    "# missing values \n",
    "\n",
    "df.isnull().sum()"
   ]
  },
  {
   "cell_type": "code",
   "execution_count": null,
   "metadata": {
    "id": "AG4j5y-JLUdE"
   },
   "outputs": [],
   "source": [
    "# data type conversion for postcode column\n",
    "\n",
    "df['Postcode'] = df['Postcode'].astype(int)\n",
    "df['Bedroom2'] = df['Bedroom2'].astype(int)\n",
    "df['Bathroom'] = df['Bathroom'].astype(int)\n",
    "df['Car'] = df['Car'].astype(int)"
   ]
  },
  {
   "cell_type": "code",
   "execution_count": null,
   "metadata": {
    "id": "NP8JEGMoLXHW"
   },
   "outputs": [],
   "source": [
    "type(df['Postcode'][0])"
   ]
  },
  {
   "cell_type": "code",
   "execution_count": null,
   "metadata": {
    "id": "DHROK03fLZN6"
   },
   "outputs": [],
   "source": [
    "df['SellerG'].value_counts()"
   ]
  },
  {
   "cell_type": "code",
   "execution_count": null,
   "metadata": {
    "id": "FJ7MalZFLbyt"
   },
   "outputs": [],
   "source": [
    "# convert categorical values to numeric\n",
    "\n",
    "df['SellerG'].replace(['Nelson', 'Jellis'], [0, 1], inplace=True)"
   ]
  },
  {
   "cell_type": "code",
   "execution_count": null,
   "metadata": {
    "id": "CJGzqTBvLeYW"
   },
   "outputs": [],
   "source": [
    "df['SellerG'].value_counts()"
   ]
  },
  {
   "cell_type": "code",
   "execution_count": null,
   "metadata": {
    "id": "o_snloz3Lhaq"
   },
   "outputs": [],
   "source": [
    "from sklearn.preprocessing import MinMaxScaler\n",
    "scaler = MinMaxScaler()"
   ]
  },
  {
   "cell_type": "code",
   "execution_count": null,
   "metadata": {
    "id": "54T1cR5SLj72"
   },
   "outputs": [],
   "source": [
    "scaler = MinMaxScaler()\n",
    "scaled = scaler.fit_transform(df[['Price', 'Distance']])"
   ]
  },
  {
   "cell_type": "code",
   "execution_count": null,
   "metadata": {
    "id": "B13clA6LLmLo"
   },
   "outputs": [],
   "source": [
    "df[['Price', 'Distance']]"
   ]
  },
  {
   "cell_type": "code",
   "execution_count": null,
   "metadata": {
    "id": "R2lu8EFCLoS4"
   },
   "outputs": [],
   "source": [
    "scaled"
   ]
  }
 ],
 "metadata": {
  "colab": {
   "collapsed_sections": [],
   "name": "31327_DBSDAL_EXP1.ipynb",
   "provenance": []
  },
  "kernelspec": {
   "display_name": "Python 3 (ipykernel)",
   "language": "python",
   "name": "python3"
  },
  "language_info": {
   "codemirror_mode": {
    "name": "ipython",
    "version": 3
   },
   "file_extension": ".py",
   "mimetype": "text/x-python",
   "name": "python",
   "nbconvert_exporter": "python",
   "pygments_lexer": "ipython3",
   "version": "3.10.1"
  }
 },
 "nbformat": 4,
 "nbformat_minor": 1
}
